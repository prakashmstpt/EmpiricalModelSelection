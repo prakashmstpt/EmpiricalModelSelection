{
 "cells": [
  {
   "cell_type": "code",
   "execution_count": null,
   "id": "cd3cbd33",
   "metadata": {},
   "outputs": [],
   "source": [
    "from langchain.chat_models import ChatOpenAI\n",
    "from langchain.chains import create_extraction_chain, create_extraction_chain_pydantic\n",
    "from langchain.prompts import ChatPromptTemplate"
   ]
  },
  {
   "cell_type": "code",
   "execution_count": null,
   "id": "b6b165b0",
   "metadata": {},
   "outputs": [],
   "source": [
    "import os\n",
    "\n",
    "os.environ[\"OPENAI_API_KEY\"] = \"\""
   ]
  },
  {
   "cell_type": "code",
   "execution_count": null,
   "id": "654657d1",
   "metadata": {},
   "outputs": [],
   "source": [
    "llm = ChatOpenAI(temperature=0, model=\"gpt-3.5-turbo-0613\")"
   ]
  },
  {
   "cell_type": "code",
   "execution_count": null,
   "id": "dfb7a77b",
   "metadata": {},
   "outputs": [],
   "source": [
    "schema = {\n",
    "    \"properties\": {\n",
    "        \"person_name\": {\"type\": \"string\"},\n",
    "        \"organization\": {\"type\": \"string\"},\n",
    "        \"location\": {\"type\": \"string\"},\n",
    "    },\n",
    "    \"required\": [\"person_name\", \"organization\", \"location\"],\n",
    "}"
   ]
  },
  {
   "cell_type": "code",
   "execution_count": null,
   "id": "0213563b",
   "metadata": {},
   "outputs": [],
   "source": [
    "input_txt = \"Sentence you want to extract NER\""
   ]
  },
  {
   "cell_type": "code",
   "execution_count": null,
   "id": "eb632c52",
   "metadata": {},
   "outputs": [],
   "source": [
    "chain = create_extraction_chain(schema, llm)"
   ]
  },
  {
   "cell_type": "code",
   "execution_count": null,
   "id": "c5e5f75f",
   "metadata": {},
   "outputs": [],
   "source": [
    "chain.prompt.messages[0]"
   ]
  },
  {
   "cell_type": "code",
   "execution_count": null,
   "id": "636c6b6d",
   "metadata": {},
   "outputs": [],
   "source": [
    "response = chain.run(input_txt)\n",
    "response"
   ]
  }
 ],
 "metadata": {
  "kernelspec": {
   "display_name": "Python 3 (ipykernel)",
   "language": "python",
   "name": "python3"
  },
  "language_info": {
   "codemirror_mode": {
    "name": "ipython",
    "version": 3
   },
   "file_extension": ".py",
   "mimetype": "text/x-python",
   "name": "python",
   "nbconvert_exporter": "python",
   "pygments_lexer": "ipython3",
   "version": "3.10.13"
  }
 },
 "nbformat": 4,
 "nbformat_minor": 5
}
